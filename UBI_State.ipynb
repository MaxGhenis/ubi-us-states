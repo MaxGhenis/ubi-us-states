{
  "nbformat": 4,
  "nbformat_minor": 0,
  "metadata": {
    "colab": {
      "name": "UBI State",
      "provenance": [],
      "collapsed_sections": []
    },
    "kernelspec": {
      "name": "python3",
      "display_name": "Python 3"
    }
  },
  "cells": [
    {
      "cell_type": "code",
      "metadata": {
        "id": "0H2XLK9rOhma",
        "colab": {
          "base_uri": "https://localhost:8080/"
        },
        "outputId": "f2880f44-31eb-4087-9ad3-e94d47344ff0"
      },
      "source": [
        "# Install microdf\r\n",
        "!pip install git+https://github.com/PSLmodels/microdf.git"
      ],
      "execution_count": null,
      "outputs": [
        {
          "output_type": "stream",
          "text": [
            "Collecting git+https://github.com/PSLmodels/microdf.git\n",
            "  Cloning https://github.com/PSLmodels/microdf.git to /tmp/pip-req-build-j6ksxh52\n",
            "  Running command git clone -q https://github.com/PSLmodels/microdf.git /tmp/pip-req-build-j6ksxh52\n",
            "Requirement already satisfied (use --upgrade to upgrade): microdf==0.2.0 from git+https://github.com/PSLmodels/microdf.git in /usr/local/lib/python3.6/dist-packages\n",
            "Requirement already satisfied: matplotlib in /usr/local/lib/python3.6/dist-packages (from microdf==0.2.0) (3.2.2)\n",
            "Requirement already satisfied: matplotlib-label-lines in /usr/local/lib/python3.6/dist-packages (from microdf==0.2.0) (0.3.8)\n",
            "Requirement already satisfied: numpy in /usr/local/lib/python3.6/dist-packages (from microdf==0.2.0) (1.18.5)\n",
            "Requirement already satisfied: pandas in /usr/local/lib/python3.6/dist-packages (from microdf==0.2.0) (1.1.4)\n",
            "Requirement already satisfied: seaborn in /usr/local/lib/python3.6/dist-packages (from microdf==0.2.0) (0.11.0)\n",
            "Requirement already satisfied: pyparsing!=2.0.4,!=2.1.2,!=2.1.6,>=2.0.1 in /usr/local/lib/python3.6/dist-packages (from matplotlib->microdf==0.2.0) (2.4.7)\n",
            "Requirement already satisfied: kiwisolver>=1.0.1 in /usr/local/lib/python3.6/dist-packages (from matplotlib->microdf==0.2.0) (1.3.1)\n",
            "Requirement already satisfied: python-dateutil>=2.1 in /usr/local/lib/python3.6/dist-packages (from matplotlib->microdf==0.2.0) (2.8.1)\n",
            "Requirement already satisfied: cycler>=0.10 in /usr/local/lib/python3.6/dist-packages (from matplotlib->microdf==0.2.0) (0.10.0)\n",
            "Requirement already satisfied: pytz>=2017.2 in /usr/local/lib/python3.6/dist-packages (from pandas->microdf==0.2.0) (2018.9)\n",
            "Requirement already satisfied: scipy>=1.0 in /usr/local/lib/python3.6/dist-packages (from seaborn->microdf==0.2.0) (1.4.1)\n",
            "Requirement already satisfied: six>=1.5 in /usr/local/lib/python3.6/dist-packages (from python-dateutil>=2.1->matplotlib->microdf==0.2.0) (1.15.0)\n",
            "Building wheels for collected packages: microdf\n",
            "  Building wheel for microdf (setup.py) ... \u001b[?25l\u001b[?25hdone\n",
            "  Created wheel for microdf: filename=microdf-0.2.0-cp36-none-any.whl size=20051 sha256=11e9ba1059ae7c52760f36230198646b94c48006cb2fcf338d430c0a2b4e0ca4\n",
            "  Stored in directory: /tmp/pip-ephem-wheel-cache-7oknm_69/wheels/3d/53/af/92e56f83db191b0579d21e8385d61a92a502e66443b23c7e16\n",
            "Successfully built microdf\n"
          ],
          "name": "stdout"
        }
      ]
    },
    {
      "cell_type": "code",
      "metadata": {
        "id": "zBKmB2r8Py8M"
      },
      "source": [
        "import pandas as pd\r\n",
        "import numpy as np\r\n",
        "import microdf as mdf"
      ],
      "execution_count": null,
      "outputs": []
    },
    {
      "cell_type": "code",
      "metadata": {
        "id": "9H9WAzyrPkmt"
      },
      "source": [
        "person = pd.read_csv('https://github.com/UBICenter/ubi-us-states/raw/main/ubi-states.csv.gz')"
      ],
      "execution_count": null,
      "outputs": []
    },
    {
      "cell_type": "code",
      "metadata": {
        "id": "iN0tTOpnQAJ3"
      },
      "source": [
        "# Lower column headers\r\n",
        "person.columns = person.columns.str.lower()"
      ],
      "execution_count": null,
      "outputs": []
    },
    {
      "cell_type": "code",
      "metadata": {
        "colab": {
          "base_uri": "https://localhost:8080/"
        },
        "id": "AUgHre1DTTCp",
        "outputId": "68c2e71d-2025-455d-b475-d257c132e3e7"
      },
      "source": [
        "person.columns"
      ],
      "execution_count": null,
      "outputs": [
        {
          "output_type": "execute_result",
          "data": {
            "text/plain": [
              "Index(['year', 'statefip', 'pernum', 'cpsidp', 'asecwt', 'age', 'race',\n",
              "       'hispan', 'adjginc', 'taxinc', 'spmtotres', 'spmthresh', 'spmfamunit'],\n",
              "      dtype='object')"
            ]
          },
          "metadata": {
            "tags": []
          },
          "execution_count": 24
        }
      ]
    },
    {
      "cell_type": "code",
      "metadata": {
        "id": "CSX8xRxAXVmA"
      },
      "source": [
        "person.adjginc.replace({99999999: 0},inplace=True)\r\n",
        "person.asecwt /= 3"
      ],
      "execution_count": null,
      "outputs": []
    },
    {
      "cell_type": "code",
      "metadata": {
        "id": "JdAIqJMTTbAy"
      },
      "source": [
        "person['age_group'] = np.where(person.age > 17, 'adult', 'child')"
      ],
      "execution_count": null,
      "outputs": []
    },
    {
      "cell_type": "code",
      "metadata": {
        "id": "l3PuQu7xQa6k"
      },
      "source": [
        "spmu = person.groupby(['spmfamunit', 'year'])[['adjginc']].sum()\r\n",
        "spmu.columns = ['spmu_agi']\r\n",
        "person = person.merge(spmu, left_on=['spmfamunit', 'year'], right_index=True)"
      ],
      "execution_count": null,
      "outputs": []
    },
    {
      "cell_type": "code",
      "metadata": {
        "id": "G5SDLxEoU_YX"
      },
      "source": [
        "person['weighted_agi'] = person.asecwt * person.adjginc"
      ],
      "execution_count": null,
      "outputs": []
    },
    {
      "cell_type": "code",
      "metadata": {
        "id": "E9El0loYUhoR"
      },
      "source": [
        "state = person.groupby(['statefip'])[['weighted_agi', 'asecwt']].sum()\r\n",
        "state.columns = ['state_total_agi', 'state_population']\r\n",
        "person = person.merge(state, left_on=['statefip'], right_index=True)"
      ],
      "execution_count": null,
      "outputs": []
    },
    {
      "cell_type": "code",
      "metadata": {
        "id": "AzuciJLrVrFi"
      },
      "source": [
        "person['state_per_dollar_tax_rate'] = (person.state_population / \r\n",
        "                                       person.state_total_agi)"
      ],
      "execution_count": null,
      "outputs": []
    },
    {
      "cell_type": "code",
      "metadata": {
        "id": "Neg1rE4aWVyu"
      },
      "source": [
        "population = person.asecwt.sum()\r\n",
        "total_agi = (person.adjginc * person.asecwt).sum()\r\n",
        "fed_tax_per_dollar = population / total_agi"
      ],
      "execution_count": null,
      "outputs": []
    },
    {
      "cell_type": "code",
      "metadata": {
        "id": "TqvnD8PdRT5j"
      },
      "source": [
        "# Function input is monthly_ubi, state\r\n",
        "# Potential dmemos - race (hispanic), age\r\n",
        "# Output poverty rate, change in poverty rate, poverty gap, change in poverty gap,\r\n",
        "# gini, change in gini, percent winners, percent losers"
      ],
      "execution_count": null,
      "outputs": []
    },
    {
      "cell_type": "code",
      "metadata": {
        "colab": {
          "base_uri": "https://localhost:8080/"
        },
        "id": "lQ9Zrd0safHw",
        "outputId": "d89c1ecc-53e4-43aa-9305-06a01a713c31"
      },
      "source": [
        "person.columns"
      ],
      "execution_count": null,
      "outputs": [
        {
          "output_type": "execute_result",
          "data": {
            "text/plain": [
              "Index(['year', 'statefip', 'pernum', 'cpsidp', 'asecwt', 'age', 'race',\n",
              "       'hispan', 'adjginc', 'taxinc', 'spmtotres', 'spmthresh', 'spmfamunit',\n",
              "       'age_group', 'spmu_agi', 'weighted_agi', 'state_total_agi',\n",
              "       'state_population', 'state_per_dollar_tax_rate'],\n",
              "      dtype='object')"
            ]
          },
          "metadata": {
            "tags": []
          },
          "execution_count": 33
        }
      ]
    },
    {
      "cell_type": "code",
      "metadata": {
        "id": "cDORxRG5ZpJy"
      },
      "source": [
        "def pov(df, ubi):\r\n",
        "    \"\"\" Calculate poverty rate across a set of person records and UBI amount.\r\n",
        "\r\n",
        "    Args:\r\n",
        "        df: DataFrame with records for each person.\r\n",
        "        ubi: Annual UBI amount.\r\n",
        "\r\n",
        "    Return:\r\n",
        "        SPM poverty rate.\r\n",
        "    \"\"\"\r\n",
        "    # Calculate required tax rate.\r\n",
        "    tax_rate = fed_tax_per_dollar * ubi\r\n",
        "    # Add UBI, subtract new tax liability.\r\n",
        "    new_spmtotres = df.spmtotres + (ubi * df.pernum) - (df.spmu_agi * tax_rate)\r\n",
        "    # Recalculate SPM poverty flags.\r\n",
        "    new_pov = new_spmtotres < df.spmthresh\r\n",
        "    # Return weighted average of the SPM flags (poverty rate).\r\n",
        "    return (new_pov * df.asecwt).sum() / df.asecwt.sum()"
      ],
      "execution_count": null,
      "outputs": []
    },
    {
      "cell_type": "code",
      "metadata": {
        "colab": {
          "base_uri": "https://localhost:8080/"
        },
        "id": "7Ld1p3X9cXOA",
        "outputId": "d3d8c11f-e3c1-47d6-821f-551a40f8c611"
      },
      "source": [
        "pov(person, 1000)"
      ],
      "execution_count": null,
      "outputs": [
        {
          "output_type": "execute_result",
          "data": {
            "text/plain": [
              "0.1114224031096988"
            ]
          },
          "metadata": {
            "tags": []
          },
          "execution_count": 39
        }
      ]
    },
    {
      "cell_type": "code",
      "metadata": {
        "colab": {
          "base_uri": "https://localhost:8080/"
        },
        "id": "Hy1tv-bSdbF6",
        "outputId": "9f2188f3-799f-4d58-b716-4af5bc18e169"
      },
      "source": [
        "pov(person[person.age_group == 'child'], 3600)"
      ],
      "execution_count": null,
      "outputs": [
        {
          "output_type": "execute_result",
          "data": {
            "text/plain": [
              "0.056291810907975866"
            ]
          },
          "metadata": {
            "tags": []
          },
          "execution_count": 42
        }
      ]
    },
    {
      "cell_type": "code",
      "metadata": {
        "colab": {
          "base_uri": "https://localhost:8080/"
        },
        "id": "cvpe_tfBd3qV",
        "outputId": "3c789d0c-fcda-4f97-d7b0-4d7c15e5b8db"
      },
      "source": [
        "age = person.groupby(['age_group']).apply(lambda x: pov(x, 1000))"
      ],
      "execution_count": null,
      "outputs": [
        {
          "output_type": "execute_result",
          "data": {
            "text/plain": [
              "age_group  race\n",
              "adult      100     0.099197\n",
              "           200     0.173552\n",
              "           300     0.158102\n",
              "           651     0.127964\n",
              "           652     0.136203\n",
              "           801     0.142902\n",
              "           802     0.130686\n",
              "           803     0.080556\n",
              "           804     0.060389\n",
              "           805     0.183181\n",
              "           806     0.068936\n",
              "           807     0.145310\n",
              "           808     0.221648\n",
              "           809     0.096012\n",
              "           810     0.145610\n",
              "           811     0.252385\n",
              "           812     0.069682\n",
              "           813     0.105784\n",
              "           814     0.020935\n",
              "           815     0.000000\n",
              "           816     0.430923\n",
              "           817     0.000000\n",
              "           818     0.000000\n",
              "           819     0.000000\n",
              "           820     0.173127\n",
              "           830     0.000000\n",
              "child      100     0.098192\n",
              "           200     0.176796\n",
              "           300     0.126544\n",
              "           651     0.096756\n",
              "           652     0.153165\n",
              "           801     0.129895\n",
              "           802     0.080905\n",
              "           803     0.038091\n",
              "           804     0.052715\n",
              "           805     0.220282\n",
              "           806     0.079990\n",
              "           807     0.227423\n",
              "           808     0.000000\n",
              "           809     0.137986\n",
              "           810     0.111667\n",
              "           811     0.020886\n",
              "           812     0.237406\n",
              "           813     0.137951\n",
              "           814     0.178365\n",
              "           815     0.146989\n",
              "           816     0.034804\n",
              "           817     0.000000\n",
              "           818     0.000000\n",
              "           819     0.000000\n",
              "           820     0.000000\n",
              "           830     0.131600\n",
              "dtype: float64"
            ]
          },
          "metadata": {
            "tags": []
          },
          "execution_count": 47
        }
      ]
    },
    {
      "cell_type": "code",
      "metadata": {
        "id": "01_jlTiJesnW"
      },
      "source": [
        "age_state = person.groupby(['age_group', 'statefip']).apply(lambda x: pov(x, 1000))"
      ],
      "execution_count": null,
      "outputs": []
    }
  ]
}